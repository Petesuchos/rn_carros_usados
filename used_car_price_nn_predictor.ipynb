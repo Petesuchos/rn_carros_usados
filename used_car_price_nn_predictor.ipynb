{
 "nbformat": 4,
 "nbformat_minor": 0,
 "metadata": {
  "colab": {
   "name": "used_car_price_nn_03.ipynb",
   "provenance": []
  },
  "kernelspec": {
   "name": "python3",
   "language": "python",
   "display_name": "Python 3 (ipykernel)"
  },
  "language_info": {
   "name": "python"
  },
  "accelerator": "GPU"
 },
 "cells": [
  {
   "cell_type": "markdown",
   "source": [
    "# Rede Neural para prever o preço de carros usados.\n",
    "\n",
    "O objetivo deste tutorial é demonstrar para iniciantes em\n",
    "Deep Learning como criar uma rede neural simples para prever\n",
    "o preço de carros usados.\n",
    "\n",
    "Esse exercício utiliza uma adaptação do dataset\n",
    "[100,000 UK Used Car Data set](https://www.kaggle.com/adityadesai13/used-car-dataset-ford-and-mercedes).\n",
    "\n",
    "Confira este [link](build_dataset/README.md)\n",
    "para ver como o arquivo utilizado neste guia foi gerado."
   ],
   "metadata": {
    "collapsed": false,
    "pycharm": {
     "name": "#%% md\n"
    }
   }
  },
  {
   "cell_type": "markdown",
   "source": [
    "Vamos usar *tensorflow*, *pandas* e *keras* para esta tarefa.\n",
    "A próxima célula importa essas bibliotecas."
   ],
   "metadata": {
    "collapsed": false,
    "pycharm": {
     "name": "#%% md\n"
    }
   }
  },
  {
   "cell_type": "code",
   "metadata": {
    "id": "VLT2IWMQBowp"
   },
   "source": [
    "import pandas as pd\n",
    "import tensorflow as tf"
   ],
   "execution_count": 1,
   "outputs": []
  },
  {
   "cell_type": "markdown",
   "source": [
    "## Carregando o dataset\n",
    "\n",
    "Vamos carregar os dados que iremos usar durante este tutorial de um\n",
    "arquivo csv para um dataframe pandas\n",
    "\n",
    "O arquivo onde está o nosso dataset é o `used_cars.csv`.\n",
    "Ele contém dados de venda de veículos Volkswagen usados no Reino Unido."
   ],
   "metadata": {
    "collapsed": false,
    "pycharm": {
     "name": "#%% md\n"
    }
   }
  },
  {
   "cell_type": "code",
   "metadata": {
    "id": "6F2PJAR5Cmqz"
   },
   "source": [
    "raw_dataset = pd.read_csv('used_cars.csv')\n",
    "raw_dataset"
   ],
   "execution_count": 2,
   "outputs": [
    {
     "data": {
      "text/plain": "      year  price transmission  mileage fuelType  tax   mpg  engineSize\n0     2019  17000       Manual     8000   Diesel  145  57.7         1.6\n1     2019  36000    Automatic     4000   Petrol  145  32.8         2.0\n2     2015  19390    Automatic    20031   Petrol  200  40.4         2.0\n3     2019  16290    Automatic    14821   Petrol  145  44.8         1.0\n4     2017  16491    Automatic    20693   Petrol   20  60.1         1.4\n...    ...    ...          ...      ...      ...  ...   ...         ...\n4858  2015  11750       Manual    79000   Diesel   20  67.3         2.0\n4859  2016  11950    Automatic    41725   Petrol   30  53.3         1.4\n4860  2017  12950    Automatic    44837   Diesel   20  67.3         2.0\n4861  2014  11299       Manual    25495   Petrol   30  53.3         1.4\n4862  2014   6251       Manual    97181   Diesel   20  68.9         2.0\n\n[4863 rows x 8 columns]",
      "text/html": "<div>\n<style scoped>\n    .dataframe tbody tr th:only-of-type {\n        vertical-align: middle;\n    }\n\n    .dataframe tbody tr th {\n        vertical-align: top;\n    }\n\n    .dataframe thead th {\n        text-align: right;\n    }\n</style>\n<table border=\"1\" class=\"dataframe\">\n  <thead>\n    <tr style=\"text-align: right;\">\n      <th></th>\n      <th>year</th>\n      <th>price</th>\n      <th>transmission</th>\n      <th>mileage</th>\n      <th>fuelType</th>\n      <th>tax</th>\n      <th>mpg</th>\n      <th>engineSize</th>\n    </tr>\n  </thead>\n  <tbody>\n    <tr>\n      <th>0</th>\n      <td>2019</td>\n      <td>17000</td>\n      <td>Manual</td>\n      <td>8000</td>\n      <td>Diesel</td>\n      <td>145</td>\n      <td>57.7</td>\n      <td>1.6</td>\n    </tr>\n    <tr>\n      <th>1</th>\n      <td>2019</td>\n      <td>36000</td>\n      <td>Automatic</td>\n      <td>4000</td>\n      <td>Petrol</td>\n      <td>145</td>\n      <td>32.8</td>\n      <td>2.0</td>\n    </tr>\n    <tr>\n      <th>2</th>\n      <td>2015</td>\n      <td>19390</td>\n      <td>Automatic</td>\n      <td>20031</td>\n      <td>Petrol</td>\n      <td>200</td>\n      <td>40.4</td>\n      <td>2.0</td>\n    </tr>\n    <tr>\n      <th>3</th>\n      <td>2019</td>\n      <td>16290</td>\n      <td>Automatic</td>\n      <td>14821</td>\n      <td>Petrol</td>\n      <td>145</td>\n      <td>44.8</td>\n      <td>1.0</td>\n    </tr>\n    <tr>\n      <th>4</th>\n      <td>2017</td>\n      <td>16491</td>\n      <td>Automatic</td>\n      <td>20693</td>\n      <td>Petrol</td>\n      <td>20</td>\n      <td>60.1</td>\n      <td>1.4</td>\n    </tr>\n    <tr>\n      <th>...</th>\n      <td>...</td>\n      <td>...</td>\n      <td>...</td>\n      <td>...</td>\n      <td>...</td>\n      <td>...</td>\n      <td>...</td>\n      <td>...</td>\n    </tr>\n    <tr>\n      <th>4858</th>\n      <td>2015</td>\n      <td>11750</td>\n      <td>Manual</td>\n      <td>79000</td>\n      <td>Diesel</td>\n      <td>20</td>\n      <td>67.3</td>\n      <td>2.0</td>\n    </tr>\n    <tr>\n      <th>4859</th>\n      <td>2016</td>\n      <td>11950</td>\n      <td>Automatic</td>\n      <td>41725</td>\n      <td>Petrol</td>\n      <td>30</td>\n      <td>53.3</td>\n      <td>1.4</td>\n    </tr>\n    <tr>\n      <th>4860</th>\n      <td>2017</td>\n      <td>12950</td>\n      <td>Automatic</td>\n      <td>44837</td>\n      <td>Diesel</td>\n      <td>20</td>\n      <td>67.3</td>\n      <td>2.0</td>\n    </tr>\n    <tr>\n      <th>4861</th>\n      <td>2014</td>\n      <td>11299</td>\n      <td>Manual</td>\n      <td>25495</td>\n      <td>Petrol</td>\n      <td>30</td>\n      <td>53.3</td>\n      <td>1.4</td>\n    </tr>\n    <tr>\n      <th>4862</th>\n      <td>2014</td>\n      <td>6251</td>\n      <td>Manual</td>\n      <td>97181</td>\n      <td>Diesel</td>\n      <td>20</td>\n      <td>68.9</td>\n      <td>2.0</td>\n    </tr>\n  </tbody>\n</table>\n<p>4863 rows × 8 columns</p>\n</div>"
     },
     "execution_count": 2,
     "metadata": {},
     "output_type": "execute_result"
    }
   ]
  },
  {
   "cell_type": "markdown",
   "source": [
    "O nosso dataset tem 4.863 linhas com 8 colunas.\n",
    "No jargão de Deep Learning chamamos cada linha do dataset de\n",
    "`exemplo` e cada coluna de `feature`.\n",
    "\n",
    "Este dataset possui features como ano de fabricação (year),\n",
    "transmissão (transmission), milhagem (mileage),\n",
    "combustível (fuelType), imposto (tax),\n",
    "milhas por galão (mpg) e tamanho do motor (engineSize).\n",
    "\n",
    "O campo preço (price) é o que estamos querendo aprender e logo mais vamos\n",
    "separá-lo em outro dataset conhecido como `labels`.\n",
    "\n",
    "Você pode pesquisar mais sobre o termos de *machine learning* no link\n",
    "[Some Key Machine Learning Definitions](https://medium.com/technology-nineleaps/some-key-machine-learning-definitions-b524eb6cb48)"
   ],
   "metadata": {
    "collapsed": false,
    "pycharm": {
     "name": "#%% md\n"
    }
   }
  },
  {
   "cell_type": "markdown",
   "source": [
    "Agora que os nossos **dados brutos** estão carregados em um\n",
    "dataframe pandas, é sempre uma boa prática deixa-los\n",
    "intactos e realizar uma cópia deles para outro objeto\n",
    "onde vamos trabalhar as nossas transformações."
   ],
   "metadata": {
    "collapsed": false,
    "pycharm": {
     "name": "#%% md\n"
    }
   }
  },
  {
   "cell_type": "code",
   "metadata": {
    "id": "LdIw80IdKidL"
   },
   "source": [
    "dataset = raw_dataset.copy()\n",
    "dataset.head()"
   ],
   "execution_count": 3,
   "outputs": [
    {
     "data": {
      "text/plain": "   year  price transmission  mileage fuelType  tax   mpg  engineSize\n0  2019  17000       Manual     8000   Diesel  145  57.7         1.6\n1  2019  36000    Automatic     4000   Petrol  145  32.8         2.0\n2  2015  19390    Automatic    20031   Petrol  200  40.4         2.0\n3  2019  16290    Automatic    14821   Petrol  145  44.8         1.0\n4  2017  16491    Automatic    20693   Petrol   20  60.1         1.4",
      "text/html": "<div>\n<style scoped>\n    .dataframe tbody tr th:only-of-type {\n        vertical-align: middle;\n    }\n\n    .dataframe tbody tr th {\n        vertical-align: top;\n    }\n\n    .dataframe thead th {\n        text-align: right;\n    }\n</style>\n<table border=\"1\" class=\"dataframe\">\n  <thead>\n    <tr style=\"text-align: right;\">\n      <th></th>\n      <th>year</th>\n      <th>price</th>\n      <th>transmission</th>\n      <th>mileage</th>\n      <th>fuelType</th>\n      <th>tax</th>\n      <th>mpg</th>\n      <th>engineSize</th>\n    </tr>\n  </thead>\n  <tbody>\n    <tr>\n      <th>0</th>\n      <td>2019</td>\n      <td>17000</td>\n      <td>Manual</td>\n      <td>8000</td>\n      <td>Diesel</td>\n      <td>145</td>\n      <td>57.7</td>\n      <td>1.6</td>\n    </tr>\n    <tr>\n      <th>1</th>\n      <td>2019</td>\n      <td>36000</td>\n      <td>Automatic</td>\n      <td>4000</td>\n      <td>Petrol</td>\n      <td>145</td>\n      <td>32.8</td>\n      <td>2.0</td>\n    </tr>\n    <tr>\n      <th>2</th>\n      <td>2015</td>\n      <td>19390</td>\n      <td>Automatic</td>\n      <td>20031</td>\n      <td>Petrol</td>\n      <td>200</td>\n      <td>40.4</td>\n      <td>2.0</td>\n    </tr>\n    <tr>\n      <th>3</th>\n      <td>2019</td>\n      <td>16290</td>\n      <td>Automatic</td>\n      <td>14821</td>\n      <td>Petrol</td>\n      <td>145</td>\n      <td>44.8</td>\n      <td>1.0</td>\n    </tr>\n    <tr>\n      <th>4</th>\n      <td>2017</td>\n      <td>16491</td>\n      <td>Automatic</td>\n      <td>20693</td>\n      <td>Petrol</td>\n      <td>20</td>\n      <td>60.1</td>\n      <td>1.4</td>\n    </tr>\n  </tbody>\n</table>\n</div>"
     },
     "execution_count": 3,
     "metadata": {},
     "output_type": "execute_result"
    }
   ]
  },
  {
   "cell_type": "markdown",
   "metadata": {
    "id": "E3rJO8wfYRw4",
    "pycharm": {
     "name": "#%% md\n"
    }
   },
   "source": [
    "## One-Hot-Encoding\n",
    "\n",
    "Repare que as colunas `transmission` e `fuelType`\n",
    "do dataset não contém números.\n",
    "Elas contem `strings` que representam categorias.\n",
    "\n",
    "Embora as redes neurais possam trabalhar com `strings`\n",
    "isso dificulta o aprendizado. Por exemplo, o nosso modelo\n",
    "pode inferir coisas malucas a partir de `strings`,\n",
    "como, por exemplo, que carros com transmissão com a letra \"M\"\n",
    "são mais baratos.\n",
    "\n",
    "Para contornar esse problema vamos utilizar um método\n",
    "chamado **one-hot-encoding** que consiste em transformar\n",
    "as categorias em colunas binárias.\n",
    "\n",
    "A função abaixo extrai a feature do dataset e a transforma em\n",
    "colunas binárias. Dê uma olhada nessa\n",
    "[referência](https://machinelearningmastery.com/why-one-hot-encode-data-in-machine-learning/)\n",
    "e em como ficou o nosso dataset depois dessa transformação."
   ]
  },
  {
   "cell_type": "code",
   "metadata": {
    "id": "brirYf5NY1_v"
   },
   "source": [
    "def one_hot_encode(ds, feature):\n",
    "  column = ds.pop(feature)\n",
    "  one_hot_encoded = pd.get_dummies(column, drop_first=True)\n",
    "  dataframe = pd.merge(\n",
    "      left=ds,\n",
    "      right=one_hot_encoded,\n",
    "      left_index=True,\n",
    "      right_index=True\n",
    "  )\n",
    "  return dataframe"
   ],
   "execution_count": 4,
   "outputs": []
  },
  {
   "cell_type": "code",
   "metadata": {
    "id": "X8Vf2wjFtSKV"
   },
   "source": [
    "dataset = one_hot_encode(ds=dataset, feature='transmission')\n",
    "dataset = one_hot_encode(ds=dataset, feature='fuelType')\n",
    "dataset"
   ],
   "execution_count": 5,
   "outputs": [
    {
     "data": {
      "text/plain": "      year  price  mileage  tax   mpg  engineSize  Manual  Semi-Auto  Hybrid  \\\n0     2019  17000     8000  145  57.7         1.6       1          0       0   \n1     2019  36000     4000  145  32.8         2.0       0          0       0   \n2     2015  19390    20031  200  40.4         2.0       0          0       0   \n3     2019  16290    14821  145  44.8         1.0       0          0       0   \n4     2017  16491    20693   20  60.1         1.4       0          0       0   \n...    ...    ...      ...  ...   ...         ...     ...        ...     ...   \n4858  2015  11750    79000   20  67.3         2.0       1          0       0   \n4859  2016  11950    41725   30  53.3         1.4       0          0       0   \n4860  2017  12950    44837   20  67.3         2.0       0          0       0   \n4861  2014  11299    25495   30  53.3         1.4       1          0       0   \n4862  2014   6251    97181   20  68.9         2.0       1          0       0   \n\n      Other  Petrol  \n0         0       0  \n1         0       1  \n2         0       1  \n3         0       1  \n4         0       1  \n...     ...     ...  \n4858      0       0  \n4859      0       1  \n4860      0       0  \n4861      0       1  \n4862      0       0  \n\n[4863 rows x 11 columns]",
      "text/html": "<div>\n<style scoped>\n    .dataframe tbody tr th:only-of-type {\n        vertical-align: middle;\n    }\n\n    .dataframe tbody tr th {\n        vertical-align: top;\n    }\n\n    .dataframe thead th {\n        text-align: right;\n    }\n</style>\n<table border=\"1\" class=\"dataframe\">\n  <thead>\n    <tr style=\"text-align: right;\">\n      <th></th>\n      <th>year</th>\n      <th>price</th>\n      <th>mileage</th>\n      <th>tax</th>\n      <th>mpg</th>\n      <th>engineSize</th>\n      <th>Manual</th>\n      <th>Semi-Auto</th>\n      <th>Hybrid</th>\n      <th>Other</th>\n      <th>Petrol</th>\n    </tr>\n  </thead>\n  <tbody>\n    <tr>\n      <th>0</th>\n      <td>2019</td>\n      <td>17000</td>\n      <td>8000</td>\n      <td>145</td>\n      <td>57.7</td>\n      <td>1.6</td>\n      <td>1</td>\n      <td>0</td>\n      <td>0</td>\n      <td>0</td>\n      <td>0</td>\n    </tr>\n    <tr>\n      <th>1</th>\n      <td>2019</td>\n      <td>36000</td>\n      <td>4000</td>\n      <td>145</td>\n      <td>32.8</td>\n      <td>2.0</td>\n      <td>0</td>\n      <td>0</td>\n      <td>0</td>\n      <td>0</td>\n      <td>1</td>\n    </tr>\n    <tr>\n      <th>2</th>\n      <td>2015</td>\n      <td>19390</td>\n      <td>20031</td>\n      <td>200</td>\n      <td>40.4</td>\n      <td>2.0</td>\n      <td>0</td>\n      <td>0</td>\n      <td>0</td>\n      <td>0</td>\n      <td>1</td>\n    </tr>\n    <tr>\n      <th>3</th>\n      <td>2019</td>\n      <td>16290</td>\n      <td>14821</td>\n      <td>145</td>\n      <td>44.8</td>\n      <td>1.0</td>\n      <td>0</td>\n      <td>0</td>\n      <td>0</td>\n      <td>0</td>\n      <td>1</td>\n    </tr>\n    <tr>\n      <th>4</th>\n      <td>2017</td>\n      <td>16491</td>\n      <td>20693</td>\n      <td>20</td>\n      <td>60.1</td>\n      <td>1.4</td>\n      <td>0</td>\n      <td>0</td>\n      <td>0</td>\n      <td>0</td>\n      <td>1</td>\n    </tr>\n    <tr>\n      <th>...</th>\n      <td>...</td>\n      <td>...</td>\n      <td>...</td>\n      <td>...</td>\n      <td>...</td>\n      <td>...</td>\n      <td>...</td>\n      <td>...</td>\n      <td>...</td>\n      <td>...</td>\n      <td>...</td>\n    </tr>\n    <tr>\n      <th>4858</th>\n      <td>2015</td>\n      <td>11750</td>\n      <td>79000</td>\n      <td>20</td>\n      <td>67.3</td>\n      <td>2.0</td>\n      <td>1</td>\n      <td>0</td>\n      <td>0</td>\n      <td>0</td>\n      <td>0</td>\n    </tr>\n    <tr>\n      <th>4859</th>\n      <td>2016</td>\n      <td>11950</td>\n      <td>41725</td>\n      <td>30</td>\n      <td>53.3</td>\n      <td>1.4</td>\n      <td>0</td>\n      <td>0</td>\n      <td>0</td>\n      <td>0</td>\n      <td>1</td>\n    </tr>\n    <tr>\n      <th>4860</th>\n      <td>2017</td>\n      <td>12950</td>\n      <td>44837</td>\n      <td>20</td>\n      <td>67.3</td>\n      <td>2.0</td>\n      <td>0</td>\n      <td>0</td>\n      <td>0</td>\n      <td>0</td>\n      <td>0</td>\n    </tr>\n    <tr>\n      <th>4861</th>\n      <td>2014</td>\n      <td>11299</td>\n      <td>25495</td>\n      <td>30</td>\n      <td>53.3</td>\n      <td>1.4</td>\n      <td>1</td>\n      <td>0</td>\n      <td>0</td>\n      <td>0</td>\n      <td>1</td>\n    </tr>\n    <tr>\n      <th>4862</th>\n      <td>2014</td>\n      <td>6251</td>\n      <td>97181</td>\n      <td>20</td>\n      <td>68.9</td>\n      <td>2.0</td>\n      <td>1</td>\n      <td>0</td>\n      <td>0</td>\n      <td>0</td>\n      <td>0</td>\n    </tr>\n  </tbody>\n</table>\n<p>4863 rows × 11 columns</p>\n</div>"
     },
     "execution_count": 5,
     "metadata": {},
     "output_type": "execute_result"
    }
   ]
  },
  {
   "cell_type": "markdown",
   "metadata": {
    "id": "neFVjxuhvIDk"
   },
   "source": [
    "## Criação dos datasets de treinamento e teste\n",
    "\n",
    "Vamos separar os nossos dados em dois datasets distintos.\n",
    "\n",
    "- O dataset de treinamento\n",
    "- O dataset de teste"
   ]
  },
  {
   "cell_type": "code",
   "metadata": {
    "id": "ceIdfi6VcqSP"
   },
   "source": [
    "train_dataset = dataset.sample(frac=0.8, random_state=0)\n",
    "test_dataset = dataset.drop(train_dataset.index)"
   ],
   "execution_count": 6,
   "outputs": []
  },
  {
   "cell_type": "code",
   "metadata": {
    "id": "Y95RU1SUwUi2"
   },
   "source": [
    "len(train_dataset.index), len(test_dataset.index)"
   ],
   "execution_count": 7,
   "outputs": [
    {
     "data": {
      "text/plain": "(3890, 973)"
     },
     "execution_count": 7,
     "metadata": {},
     "output_type": "execute_result"
    }
   ]
  },
  {
   "cell_type": "code",
   "metadata": {
    "id": "biPQl5BkxCi4"
   },
   "source": [
    "# Retirando os labels\n",
    "train_labels = train_dataset.pop('price')\n",
    "test_labels = test_dataset.pop('price')"
   ],
   "execution_count": 8,
   "outputs": []
  },
  {
   "cell_type": "code",
   "execution_count": 9,
   "outputs": [
    {
     "data": {
      "text/plain": "             count          mean           std     min     25%      50%  \\\nyear        3890.0   2017.137532      2.063745  2000.0  2016.0   2017.0   \nmileage     3890.0  24508.412596  21963.680580     1.0  7100.0  19194.0   \ntax         3890.0    100.799486     65.392211     0.0    30.0    145.0   \nmpg         3890.0     56.181388     17.715311    24.6    47.1     53.3   \nengineSize  3890.0      1.667763      0.306599     0.0     1.5      1.6   \nManual      3890.0      0.605656      0.488772     0.0     0.0      1.0   \nSemi-Auto   3890.0      0.274293      0.446215     0.0     0.0      0.0   \nHybrid      3890.0      0.017738      0.132014     0.0     0.0      0.0   \nOther       3890.0      0.005141      0.071528     0.0     0.0      0.0   \nPetrol      3890.0      0.553728      0.497169     0.0     0.0      1.0   \n\n                75%       max  \nyear         2019.0    2020.0  \nmileage     35336.0  193000.0  \ntax           145.0     570.0  \nmpg            62.8     188.3  \nengineSize      2.0       3.2  \nManual          1.0       1.0  \nSemi-Auto       1.0       1.0  \nHybrid          0.0       1.0  \nOther           0.0       1.0  \nPetrol          1.0       1.0  ",
      "text/html": "<div>\n<style scoped>\n    .dataframe tbody tr th:only-of-type {\n        vertical-align: middle;\n    }\n\n    .dataframe tbody tr th {\n        vertical-align: top;\n    }\n\n    .dataframe thead th {\n        text-align: right;\n    }\n</style>\n<table border=\"1\" class=\"dataframe\">\n  <thead>\n    <tr style=\"text-align: right;\">\n      <th></th>\n      <th>count</th>\n      <th>mean</th>\n      <th>std</th>\n      <th>min</th>\n      <th>25%</th>\n      <th>50%</th>\n      <th>75%</th>\n      <th>max</th>\n    </tr>\n  </thead>\n  <tbody>\n    <tr>\n      <th>year</th>\n      <td>3890.0</td>\n      <td>2017.137532</td>\n      <td>2.063745</td>\n      <td>2000.0</td>\n      <td>2016.0</td>\n      <td>2017.0</td>\n      <td>2019.0</td>\n      <td>2020.0</td>\n    </tr>\n    <tr>\n      <th>mileage</th>\n      <td>3890.0</td>\n      <td>24508.412596</td>\n      <td>21963.680580</td>\n      <td>1.0</td>\n      <td>7100.0</td>\n      <td>19194.0</td>\n      <td>35336.0</td>\n      <td>193000.0</td>\n    </tr>\n    <tr>\n      <th>tax</th>\n      <td>3890.0</td>\n      <td>100.799486</td>\n      <td>65.392211</td>\n      <td>0.0</td>\n      <td>30.0</td>\n      <td>145.0</td>\n      <td>145.0</td>\n      <td>570.0</td>\n    </tr>\n    <tr>\n      <th>mpg</th>\n      <td>3890.0</td>\n      <td>56.181388</td>\n      <td>17.715311</td>\n      <td>24.6</td>\n      <td>47.1</td>\n      <td>53.3</td>\n      <td>62.8</td>\n      <td>188.3</td>\n    </tr>\n    <tr>\n      <th>engineSize</th>\n      <td>3890.0</td>\n      <td>1.667763</td>\n      <td>0.306599</td>\n      <td>0.0</td>\n      <td>1.5</td>\n      <td>1.6</td>\n      <td>2.0</td>\n      <td>3.2</td>\n    </tr>\n    <tr>\n      <th>Manual</th>\n      <td>3890.0</td>\n      <td>0.605656</td>\n      <td>0.488772</td>\n      <td>0.0</td>\n      <td>0.0</td>\n      <td>1.0</td>\n      <td>1.0</td>\n      <td>1.0</td>\n    </tr>\n    <tr>\n      <th>Semi-Auto</th>\n      <td>3890.0</td>\n      <td>0.274293</td>\n      <td>0.446215</td>\n      <td>0.0</td>\n      <td>0.0</td>\n      <td>0.0</td>\n      <td>1.0</td>\n      <td>1.0</td>\n    </tr>\n    <tr>\n      <th>Hybrid</th>\n      <td>3890.0</td>\n      <td>0.017738</td>\n      <td>0.132014</td>\n      <td>0.0</td>\n      <td>0.0</td>\n      <td>0.0</td>\n      <td>0.0</td>\n      <td>1.0</td>\n    </tr>\n    <tr>\n      <th>Other</th>\n      <td>3890.0</td>\n      <td>0.005141</td>\n      <td>0.071528</td>\n      <td>0.0</td>\n      <td>0.0</td>\n      <td>0.0</td>\n      <td>0.0</td>\n      <td>1.0</td>\n    </tr>\n    <tr>\n      <th>Petrol</th>\n      <td>3890.0</td>\n      <td>0.553728</td>\n      <td>0.497169</td>\n      <td>0.0</td>\n      <td>0.0</td>\n      <td>1.0</td>\n      <td>1.0</td>\n      <td>1.0</td>\n    </tr>\n  </tbody>\n</table>\n</div>"
     },
     "execution_count": 9,
     "metadata": {},
     "output_type": "execute_result"
    }
   ],
   "source": [
    "train_stats = train_dataset.describe().transpose()\n",
    "train_stats"
   ],
   "metadata": {
    "collapsed": false,
    "pycharm": {
     "name": "#%%\n"
    }
   }
  },
  {
   "cell_type": "markdown",
   "source": [
    "## Reescalonamento dos dados\n",
    "\n",
    "Uma rede neural náo *exige* que os dados\n",
    "estejam normalizados para funcionar.\n",
    "No entanto `features` com escalas muito diferentes\n",
    "podem afetar o aprendizado da rede.\n",
    "\n",
    "Por exemplo, neste dataset temos uma `feature`\n",
    "chamada `engineSize` que varia entre 0 e 3,55 e\n",
    "outra chamada `mileage` que varia de 1 a 193.000.\n",
    "Essa diferença de tamanhos fará com que a feature\n",
    "`mileage` tenha mais impacto no aprendizado da rede\n",
    "do que a feature `engineSize`.\n",
    "\n",
    "Para evitar esse problema podemos usar dois\n",
    "métodos:\n",
    "\n",
    "- Normalização\n",
    "- Padronização\n",
    "\n",
    "A **padronização** dos dados consiste em transformá-los\n",
    "para que tenham a média zero e variem em mais ou menos um\n",
    "desvio padrão.\n",
    "\n",
    "$$ X_{pad} = \\frac{X - \\mu}{\\sigma} $$\n",
    "\n",
    "A **normalização** reescala os dados num intervalo que\n",
    "varia de 0 a 1.\n",
    "\n",
    "$$ X_{norm} = \\frac{X - X_{min}}{X_{max} - X_{min}} $$\n",
    "\n",
    "Mais informações sobre esse importante tópico\n",
    "podem ser encontradas em\n",
    "[How, When, and Why Should You Normalize / Standardize / Rescale Your Data?](https://towardsai.net/p/data-science/how-when-and-why-should-you-normalize-standardize-rescale-your-data-3f083def38ff)\n",
    "\n",
    "O trecho de código abaixo implementa a padronização.\n",
    "O código da normalização está comentado. Eu sugiro que\n",
    "você experimente com os dois métodos e observe os efeitos\n",
    "sobre os resultados desta rede neural."
   ],
   "metadata": {
    "collapsed": false
   }
  },
  {
   "cell_type": "code",
   "metadata": {
    "id": "8AETK0lkwxSc"
   },
   "source": [
    "def norm(x):\n",
    "    return (x - train_stats['mean']) / train_stats['std']\n",
    "    # return (x - train_stats['min']) / (train_stats['max'] - train_stats['min'])"
   ],
   "execution_count": 10,
   "outputs": []
  },
  {
   "cell_type": "code",
   "metadata": {
    "id": "1LV4ROBzx0ic"
   },
   "source": [
    "normed_train_data = norm(train_dataset)\n",
    "normed_test_data = norm(test_dataset)"
   ],
   "execution_count": 11,
   "outputs": []
  },
  {
   "cell_type": "markdown",
   "source": [
    "Observe como os dados agora têm média próxima de zero e desvio padrão 1."
   ],
   "metadata": {
    "collapsed": false,
    "pycharm": {
     "name": "#%% md\n"
    }
   }
  },
  {
   "cell_type": "code",
   "metadata": {
    "id": "deyLFOmUx-dT"
   },
   "source": [
    "normed_train_data.describe()"
   ],
   "execution_count": 12,
   "outputs": [
    {
     "data": {
      "text/plain": "               year       mileage           tax           mpg    engineSize  \\\ncount  3.890000e+03  3.890000e+03  3.890000e+03  3.890000e+03  3.890000e+03   \nmean  -1.899720e-14  2.739882e-17  3.470517e-17  4.794794e-16 -1.032022e-16   \nstd    1.000000e+00  1.000000e+00  1.000000e+00  1.000000e+00  1.000000e+00   \nmin   -8.304094e+00 -1.115815e+00 -1.541460e+00 -1.782717e+00 -5.439559e+00   \n25%   -5.511980e-01 -7.926000e-01 -1.082690e+00 -5.126293e-01 -5.471756e-01   \n50%   -6.664202e-02 -2.419637e-01  6.759293e-01 -1.626496e-01 -2.210167e-01   \n75%    9.024699e-01  4.929769e-01  6.759293e-01  3.736097e-01  1.083619e+00   \nmax    1.387026e+00  7.671373e+00  7.175174e+00  7.457877e+00  4.997526e+00   \n\n             Manual     Semi-Auto        Hybrid         Other        Petrol  \ncount  3.890000e+03  3.890000e+03  3.890000e+03  3.890000e+03  3.890000e+03  \nmean   7.078029e-17  6.393058e-18 -3.287858e-17 -2.283235e-18  1.013756e-16  \nstd    1.000000e+00  1.000000e+00  1.000000e+00  1.000000e+00  1.000000e+00  \nmin   -1.239136e+00 -6.147109e-01 -1.343632e-01 -7.187927e-02 -1.113761e+00  \n25%   -1.239136e+00 -6.147109e-01 -1.343632e-01 -7.187927e-02 -1.113761e+00  \n50%    8.068062e-01 -6.147109e-01 -1.343632e-01 -7.187927e-02  8.976276e-01  \n75%    8.068062e-01  1.626363e+00 -1.343632e-01 -7.187927e-02  8.976276e-01  \nmax    8.068062e-01  1.626363e+00  7.440603e+00  1.390864e+01  8.976276e-01  ",
      "text/html": "<div>\n<style scoped>\n    .dataframe tbody tr th:only-of-type {\n        vertical-align: middle;\n    }\n\n    .dataframe tbody tr th {\n        vertical-align: top;\n    }\n\n    .dataframe thead th {\n        text-align: right;\n    }\n</style>\n<table border=\"1\" class=\"dataframe\">\n  <thead>\n    <tr style=\"text-align: right;\">\n      <th></th>\n      <th>year</th>\n      <th>mileage</th>\n      <th>tax</th>\n      <th>mpg</th>\n      <th>engineSize</th>\n      <th>Manual</th>\n      <th>Semi-Auto</th>\n      <th>Hybrid</th>\n      <th>Other</th>\n      <th>Petrol</th>\n    </tr>\n  </thead>\n  <tbody>\n    <tr>\n      <th>count</th>\n      <td>3.890000e+03</td>\n      <td>3.890000e+03</td>\n      <td>3.890000e+03</td>\n      <td>3.890000e+03</td>\n      <td>3.890000e+03</td>\n      <td>3.890000e+03</td>\n      <td>3.890000e+03</td>\n      <td>3.890000e+03</td>\n      <td>3.890000e+03</td>\n      <td>3.890000e+03</td>\n    </tr>\n    <tr>\n      <th>mean</th>\n      <td>-1.899720e-14</td>\n      <td>2.739882e-17</td>\n      <td>3.470517e-17</td>\n      <td>4.794794e-16</td>\n      <td>-1.032022e-16</td>\n      <td>7.078029e-17</td>\n      <td>6.393058e-18</td>\n      <td>-3.287858e-17</td>\n      <td>-2.283235e-18</td>\n      <td>1.013756e-16</td>\n    </tr>\n    <tr>\n      <th>std</th>\n      <td>1.000000e+00</td>\n      <td>1.000000e+00</td>\n      <td>1.000000e+00</td>\n      <td>1.000000e+00</td>\n      <td>1.000000e+00</td>\n      <td>1.000000e+00</td>\n      <td>1.000000e+00</td>\n      <td>1.000000e+00</td>\n      <td>1.000000e+00</td>\n      <td>1.000000e+00</td>\n    </tr>\n    <tr>\n      <th>min</th>\n      <td>-8.304094e+00</td>\n      <td>-1.115815e+00</td>\n      <td>-1.541460e+00</td>\n      <td>-1.782717e+00</td>\n      <td>-5.439559e+00</td>\n      <td>-1.239136e+00</td>\n      <td>-6.147109e-01</td>\n      <td>-1.343632e-01</td>\n      <td>-7.187927e-02</td>\n      <td>-1.113761e+00</td>\n    </tr>\n    <tr>\n      <th>25%</th>\n      <td>-5.511980e-01</td>\n      <td>-7.926000e-01</td>\n      <td>-1.082690e+00</td>\n      <td>-5.126293e-01</td>\n      <td>-5.471756e-01</td>\n      <td>-1.239136e+00</td>\n      <td>-6.147109e-01</td>\n      <td>-1.343632e-01</td>\n      <td>-7.187927e-02</td>\n      <td>-1.113761e+00</td>\n    </tr>\n    <tr>\n      <th>50%</th>\n      <td>-6.664202e-02</td>\n      <td>-2.419637e-01</td>\n      <td>6.759293e-01</td>\n      <td>-1.626496e-01</td>\n      <td>-2.210167e-01</td>\n      <td>8.068062e-01</td>\n      <td>-6.147109e-01</td>\n      <td>-1.343632e-01</td>\n      <td>-7.187927e-02</td>\n      <td>8.976276e-01</td>\n    </tr>\n    <tr>\n      <th>75%</th>\n      <td>9.024699e-01</td>\n      <td>4.929769e-01</td>\n      <td>6.759293e-01</td>\n      <td>3.736097e-01</td>\n      <td>1.083619e+00</td>\n      <td>8.068062e-01</td>\n      <td>1.626363e+00</td>\n      <td>-1.343632e-01</td>\n      <td>-7.187927e-02</td>\n      <td>8.976276e-01</td>\n    </tr>\n    <tr>\n      <th>max</th>\n      <td>1.387026e+00</td>\n      <td>7.671373e+00</td>\n      <td>7.175174e+00</td>\n      <td>7.457877e+00</td>\n      <td>4.997526e+00</td>\n      <td>8.068062e-01</td>\n      <td>1.626363e+00</td>\n      <td>7.440603e+00</td>\n      <td>1.390864e+01</td>\n      <td>8.976276e-01</td>\n    </tr>\n  </tbody>\n</table>\n</div>"
     },
     "execution_count": 12,
     "metadata": {},
     "output_type": "execute_result"
    }
   ]
  },
  {
   "cell_type": "code",
   "metadata": {
    "id": "rrbWrunxyDYo"
   },
   "source": [
    "def build_model():\n",
    "  model = tf.keras.Sequential([\n",
    "                               tf.keras.layers.Dense(units=9,\n",
    "                                                     activation='relu',\n",
    "                                                     input_shape=[len(train_dataset.keys())]),\n",
    "                               tf.keras.layers.Dense(units=1)\n",
    "  ])\n",
    "\n",
    "  model.compile(\n",
    "      loss='mse',\n",
    "      optimizer=tf.keras.optimizers.RMSprop(learning_rate=0.01),\n",
    "      metrics=['mae', 'mse']\n",
    "  )\n",
    "\n",
    "  return model"
   ],
   "execution_count": 13,
   "outputs": []
  },
  {
   "cell_type": "code",
   "metadata": {
    "id": "ST0mJFYBzg9N"
   },
   "source": [
    "model = build_model()"
   ],
   "execution_count": 14,
   "outputs": [
    {
     "name": "stderr",
     "output_type": "stream",
     "text": [
      "2021-11-08 19:37:33.219896: I tensorflow/core/platform/cpu_feature_guard.cc:142] This TensorFlow binary is optimized with oneAPI Deep Neural Network Library (oneDNN) to use the following CPU instructions in performance-critical operations:  AVX2 FMA\n",
      "To enable them in other operations, rebuild TensorFlow with the appropriate compiler flags.\n"
     ]
    }
   ]
  },
  {
   "cell_type": "code",
   "metadata": {
    "id": "DHA3x8JTzjsx"
   },
   "source": [
    "model.summary()"
   ],
   "execution_count": 15,
   "outputs": [
    {
     "name": "stdout",
     "output_type": "stream",
     "text": [
      "Model: \"sequential\"\n",
      "_________________________________________________________________\n",
      "Layer (type)                 Output Shape              Param #   \n",
      "=================================================================\n",
      "dense (Dense)                (None, 9)                 99        \n",
      "_________________________________________________________________\n",
      "dense_1 (Dense)              (None, 1)                 10        \n",
      "=================================================================\n",
      "Total params: 109\n",
      "Trainable params: 109\n",
      "Non-trainable params: 0\n",
      "_________________________________________________________________\n"
     ]
    }
   ]
  },
  {
   "cell_type": "code",
   "metadata": {
    "colab": {
     "base_uri": "https://localhost:8080/"
    },
    "id": "q0EQRF54zzcX",
    "outputId": "010b8980-474b-4305-b8a9-db56f9302a89"
   },
   "source": [
    "example_batch = normed_train_data[:10]\n",
    "example_result = model.predict(example_batch)\n",
    "example_result"
   ],
   "execution_count": 16,
   "outputs": [
    {
     "name": "stderr",
     "output_type": "stream",
     "text": [
      "2021-11-08 19:37:36.162143: I tensorflow/compiler/mlir/mlir_graph_optimization_pass.cc:176] None of the MLIR Optimization Passes are enabled (registered 2)\n"
     ]
    },
    {
     "data": {
      "text/plain": "array([[-1.810147  ],\n       [-0.6479186 ],\n       [-0.68383074],\n       [-0.6855785 ],\n       [-1.2438102 ],\n       [-0.85801786],\n       [-0.8565395 ],\n       [-1.5911381 ],\n       [-0.9872696 ],\n       [-0.05247145]], dtype=float32)"
     },
     "execution_count": 16,
     "metadata": {},
     "output_type": "execute_result"
    }
   ]
  },
  {
   "cell_type": "code",
   "metadata": {
    "id": "ObB65Rou0Reh"
   },
   "source": [
    "history = model.fit(\n",
    "    normed_train_data,\n",
    "    train_labels,\n",
    "    epochs=1000,\n",
    "    validation_split=0.2,\n",
    "    callbacks=[tf.keras.callbacks.EarlyStopping(monitor='val_loss', patience=10)],\n",
    "    verbose=0\n",
    ")"
   ],
   "execution_count": 17,
   "outputs": []
  },
  {
   "cell_type": "code",
   "metadata": {
    "colab": {
     "base_uri": "https://localhost:8080/",
     "height": 363
    },
    "id": "GwRudHkA0qy9",
    "outputId": "a37591dc-80c9-40f6-ed78-ddc03e847a55"
   },
   "source": [
    "hist = pd.DataFrame(history.history)\n",
    "hist['EPOCH'] = history.epoch\n",
    "hist.tail(10)"
   ],
   "execution_count": 18,
   "outputs": [
    {
     "data": {
      "text/plain": "           loss          mae         mse    val_loss      val_mae     val_mse  \\\n400  2964009.75  1270.746582  2964009.75  2940035.00  1251.369019  2940035.00   \n401  2962894.25  1272.487915  2962894.25  2944473.75  1251.404907  2944473.75   \n402  2959055.00  1270.161987  2959055.00  2958638.75  1252.933838  2958638.75   \n403  2960980.00  1265.889038  2960980.00  2941283.25  1251.136719  2941283.25   \n404  2960817.00  1270.668579  2960817.00  2943146.00  1250.970947  2943146.00   \n405  2960808.75  1270.780151  2960808.75  2949666.50  1251.574829  2949666.50   \n406  2958885.50  1269.310181  2958885.50  2954225.50  1252.317749  2954225.50   \n407  2961409.25  1268.531128  2961409.25  2949437.50  1252.715698  2949437.50   \n408  2959916.75  1270.561401  2959916.75  2947408.00  1251.556641  2947408.00   \n409  2959319.50  1269.358154  2959319.50  2946166.75  1251.448120  2946166.75   \n\n     EPOCH  \n400    400  \n401    401  \n402    402  \n403    403  \n404    404  \n405    405  \n406    406  \n407    407  \n408    408  \n409    409  ",
      "text/html": "<div>\n<style scoped>\n    .dataframe tbody tr th:only-of-type {\n        vertical-align: middle;\n    }\n\n    .dataframe tbody tr th {\n        vertical-align: top;\n    }\n\n    .dataframe thead th {\n        text-align: right;\n    }\n</style>\n<table border=\"1\" class=\"dataframe\">\n  <thead>\n    <tr style=\"text-align: right;\">\n      <th></th>\n      <th>loss</th>\n      <th>mae</th>\n      <th>mse</th>\n      <th>val_loss</th>\n      <th>val_mae</th>\n      <th>val_mse</th>\n      <th>EPOCH</th>\n    </tr>\n  </thead>\n  <tbody>\n    <tr>\n      <th>400</th>\n      <td>2964009.75</td>\n      <td>1270.746582</td>\n      <td>2964009.75</td>\n      <td>2940035.00</td>\n      <td>1251.369019</td>\n      <td>2940035.00</td>\n      <td>400</td>\n    </tr>\n    <tr>\n      <th>401</th>\n      <td>2962894.25</td>\n      <td>1272.487915</td>\n      <td>2962894.25</td>\n      <td>2944473.75</td>\n      <td>1251.404907</td>\n      <td>2944473.75</td>\n      <td>401</td>\n    </tr>\n    <tr>\n      <th>402</th>\n      <td>2959055.00</td>\n      <td>1270.161987</td>\n      <td>2959055.00</td>\n      <td>2958638.75</td>\n      <td>1252.933838</td>\n      <td>2958638.75</td>\n      <td>402</td>\n    </tr>\n    <tr>\n      <th>403</th>\n      <td>2960980.00</td>\n      <td>1265.889038</td>\n      <td>2960980.00</td>\n      <td>2941283.25</td>\n      <td>1251.136719</td>\n      <td>2941283.25</td>\n      <td>403</td>\n    </tr>\n    <tr>\n      <th>404</th>\n      <td>2960817.00</td>\n      <td>1270.668579</td>\n      <td>2960817.00</td>\n      <td>2943146.00</td>\n      <td>1250.970947</td>\n      <td>2943146.00</td>\n      <td>404</td>\n    </tr>\n    <tr>\n      <th>405</th>\n      <td>2960808.75</td>\n      <td>1270.780151</td>\n      <td>2960808.75</td>\n      <td>2949666.50</td>\n      <td>1251.574829</td>\n      <td>2949666.50</td>\n      <td>405</td>\n    </tr>\n    <tr>\n      <th>406</th>\n      <td>2958885.50</td>\n      <td>1269.310181</td>\n      <td>2958885.50</td>\n      <td>2954225.50</td>\n      <td>1252.317749</td>\n      <td>2954225.50</td>\n      <td>406</td>\n    </tr>\n    <tr>\n      <th>407</th>\n      <td>2961409.25</td>\n      <td>1268.531128</td>\n      <td>2961409.25</td>\n      <td>2949437.50</td>\n      <td>1252.715698</td>\n      <td>2949437.50</td>\n      <td>407</td>\n    </tr>\n    <tr>\n      <th>408</th>\n      <td>2959916.75</td>\n      <td>1270.561401</td>\n      <td>2959916.75</td>\n      <td>2947408.00</td>\n      <td>1251.556641</td>\n      <td>2947408.00</td>\n      <td>408</td>\n    </tr>\n    <tr>\n      <th>409</th>\n      <td>2959319.50</td>\n      <td>1269.358154</td>\n      <td>2959319.50</td>\n      <td>2946166.75</td>\n      <td>1251.448120</td>\n      <td>2946166.75</td>\n      <td>409</td>\n    </tr>\n  </tbody>\n</table>\n</div>"
     },
     "execution_count": 18,
     "metadata": {},
     "output_type": "execute_result"
    }
   ]
  },
  {
   "cell_type": "code",
   "metadata": {
    "colab": {
     "base_uri": "https://localhost:8080/",
     "height": 552
    },
    "id": "eoa0AClF3WY_",
    "outputId": "5843a5b2-7121-4aaf-fb56-1100e4b3add0"
   },
   "source": [
    "import matplotlib.pyplot as plt\n",
    "\n",
    "def plot_history(history):\n",
    "  hist = pd.DataFrame(history.history)\n",
    "  hist['EPOCH'] = history.epoch\n",
    "\n",
    "  plt.figure()\n",
    "  plt.xlabel('Epoch')\n",
    "  plt.ylabel('Mean Abs Error [Price]')\n",
    "  plt.plot(hist['EPOCH'], hist['mae'], label='Train Error')\n",
    "  plt.plot(hist['EPOCH'], hist['val_mae'], label='Validation Error')\n",
    "  plt.legend()\n",
    "\n",
    "  plt.figure()\n",
    "  plt.xlabel('Epoch')\n",
    "  plt.ylabel('Mean Square Error [$Price^2$]')\n",
    "  plt.plot(hist['EPOCH'], hist['mse'], label='Train Error')\n",
    "  plt.plot(hist['EPOCH'], hist['val_mse'], label='Validation Error')\n",
    "  plt.legend()\n",
    "\n",
    "plot_history(history)"
   ],
   "execution_count": 19,
   "outputs": [
    {
     "data": {
      "text/plain": "<Figure size 432x288 with 1 Axes>",
      "image/png": "[encoded data removed]"
     },
     "metadata": {
      "needs_background": "light"
     },
     "output_type": "display_data"
    },
    {
     "data": {
      "text/plain": "<Figure size 432x288 with 1 Axes>",
      "image/png": "[encoded data removed]"
     },
     "metadata": {
      "needs_background": "light"
     },
     "output_type": "display_data"
    }
   ]
  },
  {
   "cell_type": "code",
   "metadata": {
    "id": "tX_UQEGGV1J2",
    "colab": {
     "base_uri": "https://localhost:8080/"
    },
    "outputId": "6c748452-be3b-4ab2-9627-328dbafdde9b"
   },
   "source": [
    "loss, mae, mse = model.evaluate(normed_test_data, test_labels, verbose=0)\n",
    "\n",
    "loss, mae, mse"
   ],
   "execution_count": 20,
   "outputs": [
    {
     "data": {
      "text/plain": "(2602905.5, 1213.8448486328125, 2602905.5)"
     },
     "execution_count": 20,
     "metadata": {},
     "output_type": "execute_result"
    }
   ]
  },
  {
   "cell_type": "code",
   "metadata": {
    "colab": {
     "base_uri": "https://localhost:8080/",
     "height": 279
    },
    "id": "tGs93fyWwfME",
    "outputId": "85aa3385-f62d-4560-e98e-d57360c0b041"
   },
   "source": [
    "test_predictions = model.predict(normed_test_data).flatten()\n",
    "\n",
    "plt.scatter(test_labels, test_predictions, alpha=0.1)\n",
    "plt.xlabel('True Values [Price]')\n",
    "plt.ylabel('Predictions [Price]')\n",
    "plt.axis('equal')\n",
    "plt.axis('square')\n",
    "plt.xlim([0, plt.xlim()[1]])\n",
    "plt.ylim([0, plt.ylim()[1]])\n",
    "_ = plt.plot([0, 40_000], [0, 40_000], color='b')"
   ],
   "execution_count": 21,
   "outputs": [
    {
     "data": {
      "text/plain": "<Figure size 432x288 with 1 Axes>",
      "image/png": "[encoded data removed]"
     },
     "metadata": {
      "needs_background": "light"
     },
     "output_type": "display_data"
    }
   ]
  },
  {
   "cell_type": "code",
   "metadata": {
    "colab": {
     "base_uri": "https://localhost:8080/",
     "height": 279
    },
    "id": "aVyoH9Qaw7sV",
    "outputId": "d2d1bf2e-61ec-4d97-b731-421aafd42830"
   },
   "source": [
    "error = test_predictions - test_labels\n",
    "plt.hist(error, bins=25)\n",
    "plt.xlabel('Prediction Error [Price]')\n",
    "_ = plt.ylabel('Count')"
   ],
   "execution_count": 22,
   "outputs": [
    {
     "data": {
      "text/plain": "<Figure size 432x288 with 1 Axes>",
      "image/png": "[encoded data removed]"
     },
     "metadata": {
      "needs_background": "light"
     },
     "output_type": "display_data"
    }
   ]
  },
  {
   "cell_type": "code",
   "execution_count": 22,
   "outputs": [],
   "source": [],
   "metadata": {
    "collapsed": false,
    "pycharm": {
     "name": "#%%\n"
    }
   }
  }
 ]
}